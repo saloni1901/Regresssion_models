{
  "nbformat": 4,
  "nbformat_minor": 0,
  "metadata": {
    "colab": {
      "name": "Decision_tree_regression(CART)",
      "provenance": [],
      "authorship_tag": "ABX9TyOY2UiND8yuvl1CeXxyajhT",
      "include_colab_link": true
    },
    "kernelspec": {
      "name": "python3",
      "display_name": "Python 3"
    },
    "language_info": {
      "name": "python"
    }
  },
  "cells": [
    {
      "cell_type": "markdown",
      "metadata": {
        "id": "view-in-github",
        "colab_type": "text"
      },
      "source": [
        "<a href=\"https://colab.research.google.com/github/saloni1901/machine_learning_basics/blob/main/Decision_tree_regression(CART).ipynb\" target=\"_parent\"><img src=\"https://colab.research.google.com/assets/colab-badge.svg\" alt=\"Open In Colab\"/></a>"
      ]
    },
    {
      "cell_type": "code",
      "metadata": {
        "id": "knWSy5sG4GsU"
      },
      "source": [
        "import pandas as pd\n",
        "import numpy as np\n",
        "import matplotlib.pyplot as plt"
      ],
      "execution_count": 2,
      "outputs": []
    },
    {
      "cell_type": "code",
      "metadata": {
        "colab": {
          "base_uri": "https://localhost:8080/",
          "height": 235
        },
        "id": "NGvEmR2u4e7-",
        "outputId": "fac74e16-d812-4d9c-87bc-42dca4ae9ad5"
      },
      "source": [
        "df=pd.read_csv('Position_Salaries.csv')\n",
        "df.head(6)"
      ],
      "execution_count": 11,
      "outputs": [
        {
          "output_type": "execute_result",
          "data": {
            "text/html": [
              "<div>\n",
              "<style scoped>\n",
              "    .dataframe tbody tr th:only-of-type {\n",
              "        vertical-align: middle;\n",
              "    }\n",
              "\n",
              "    .dataframe tbody tr th {\n",
              "        vertical-align: top;\n",
              "    }\n",
              "\n",
              "    .dataframe thead th {\n",
              "        text-align: right;\n",
              "    }\n",
              "</style>\n",
              "<table border=\"1\" class=\"dataframe\">\n",
              "  <thead>\n",
              "    <tr style=\"text-align: right;\">\n",
              "      <th></th>\n",
              "      <th>Position</th>\n",
              "      <th>Level</th>\n",
              "      <th>Salary</th>\n",
              "    </tr>\n",
              "  </thead>\n",
              "  <tbody>\n",
              "    <tr>\n",
              "      <th>0</th>\n",
              "      <td>Business Analyst</td>\n",
              "      <td>1</td>\n",
              "      <td>45000</td>\n",
              "    </tr>\n",
              "    <tr>\n",
              "      <th>1</th>\n",
              "      <td>Junior Consultant</td>\n",
              "      <td>2</td>\n",
              "      <td>50000</td>\n",
              "    </tr>\n",
              "    <tr>\n",
              "      <th>2</th>\n",
              "      <td>Senior Consultant</td>\n",
              "      <td>3</td>\n",
              "      <td>60000</td>\n",
              "    </tr>\n",
              "    <tr>\n",
              "      <th>3</th>\n",
              "      <td>Manager</td>\n",
              "      <td>4</td>\n",
              "      <td>80000</td>\n",
              "    </tr>\n",
              "    <tr>\n",
              "      <th>4</th>\n",
              "      <td>Country Manager</td>\n",
              "      <td>5</td>\n",
              "      <td>110000</td>\n",
              "    </tr>\n",
              "    <tr>\n",
              "      <th>5</th>\n",
              "      <td>Region Manager</td>\n",
              "      <td>6</td>\n",
              "      <td>150000</td>\n",
              "    </tr>\n",
              "  </tbody>\n",
              "</table>\n",
              "</div>"
            ],
            "text/plain": [
              "            Position  Level  Salary\n",
              "0   Business Analyst      1   45000\n",
              "1  Junior Consultant      2   50000\n",
              "2  Senior Consultant      3   60000\n",
              "3            Manager      4   80000\n",
              "4    Country Manager      5  110000\n",
              "5     Region Manager      6  150000"
            ]
          },
          "metadata": {
            "tags": []
          },
          "execution_count": 11
        }
      ]
    },
    {
      "cell_type": "code",
      "metadata": {
        "id": "sprAvn_o8Rly"
      },
      "source": [
        "x=df.iloc[:,1:-1].values\n",
        "y=df.iloc[:,-1].values"
      ],
      "execution_count": 4,
      "outputs": []
    },
    {
      "cell_type": "code",
      "metadata": {
        "colab": {
          "base_uri": "https://localhost:8080/"
        },
        "id": "XEXSidhT8bSB",
        "outputId": "7b153602-5f4b-4025-bfdd-4370db0d33ad"
      },
      "source": [
        "from sklearn.tree import DecisionTreeRegressor\n",
        "l=DecisionTreeRegressor(random_state=0)\n",
        "l.fit(x,y)\n"
      ],
      "execution_count": 8,
      "outputs": [
        {
          "output_type": "execute_result",
          "data": {
            "text/plain": [
              "DecisionTreeRegressor(ccp_alpha=0.0, criterion='mse', max_depth=None,\n",
              "                      max_features=None, max_leaf_nodes=None,\n",
              "                      min_impurity_decrease=0.0, min_impurity_split=None,\n",
              "                      min_samples_leaf=1, min_samples_split=2,\n",
              "                      min_weight_fraction_leaf=0.0, presort='deprecated',\n",
              "                      random_state=0, splitter='best')"
            ]
          },
          "metadata": {
            "tags": []
          },
          "execution_count": 8
        }
      ]
    },
    {
      "cell_type": "code",
      "metadata": {
        "colab": {
          "base_uri": "https://localhost:8080/"
        },
        "id": "wanPcVWg9JSh",
        "outputId": "cd9d2b98-596e-46de-b749-d63105dace46"
      },
      "source": [
        "l.predict([[6.5]])"
      ],
      "execution_count": 10,
      "outputs": [
        {
          "output_type": "execute_result",
          "data": {
            "text/plain": [
              "array([150000.])"
            ]
          },
          "metadata": {
            "tags": []
          },
          "execution_count": 10
        }
      ]
    },
    {
      "cell_type": "code",
      "metadata": {
        "colab": {
          "base_uri": "https://localhost:8080/",
          "height": 293
        },
        "id": "Au1YM3Kl95Qq",
        "outputId": "3a0a9563-79b7-4db7-fdb9-51791a42e9b0"
      },
      "source": [
        "x_grid=np.arange(min(x),max(x),0.1)\n",
        "x_grid=x_grid.reshape((len(x_grid),1))\n",
        "plt.scatter(x,y,c='g')\n",
        "plt.plot(x_grid,l.predict(x_grid))"
      ],
      "execution_count": 17,
      "outputs": [
        {
          "output_type": "execute_result",
          "data": {
            "text/plain": [
              "[<matplotlib.lines.Line2D at 0x7f6a048d1b90>]"
            ]
          },
          "metadata": {
            "tags": []
          },
          "execution_count": 17
        },
        {
          "output_type": "display_data",
          "data": {
            "image/png": "[encoded data removed]",
            "text/plain": [
              "<Figure size 432x288 with 1 Axes>"
            ]
          },
          "metadata": {
            "tags": [],
            "needs_background": "light"
          }
        }
      ]
    },
    {
      "cell_type": "code",
      "metadata": {
        "colab": {
          "base_uri": "https://localhost:8080/"
        },
        "id": "Cc3X7gbM_PS1",
        "outputId": "6fe2460b-68af-4b7f-e529-faf949f2b401"
      },
      "source": [
        "x_grid"
      ],
      "execution_count": 18,
      "outputs": [
        {
          "output_type": "execute_result",
          "data": {
            "text/plain": [
              "array([[1. ],\n",
              "       [1.1],\n",
              "       [1.2],\n",
              "       [1.3],\n",
              "       [1.4],\n",
              "       [1.5],\n",
              "       [1.6],\n",
              "       [1.7],\n",
              "       [1.8],\n",
              "       [1.9],\n",
              "       [2. ],\n",
              "       [2.1],\n",
              "       [2.2],\n",
              "       [2.3],\n",
              "       [2.4],\n",
              "       [2.5],\n",
              "       [2.6],\n",
              "       [2.7],\n",
              "       [2.8],\n",
              "       [2.9],\n",
              "       [3. ],\n",
              "       [3.1],\n",
              "       [3.2],\n",
              "       [3.3],\n",
              "       [3.4],\n",
              "       [3.5],\n",
              "       [3.6],\n",
              "       [3.7],\n",
              "       [3.8],\n",
              "       [3.9],\n",
              "       [4. ],\n",
              "       [4.1],\n",
              "       [4.2],\n",
              "       [4.3],\n",
              "       [4.4],\n",
              "       [4.5],\n",
              "       [4.6],\n",
              "       [4.7],\n",
              "       [4.8],\n",
              "       [4.9],\n",
              "       [5. ],\n",
              "       [5.1],\n",
              "       [5.2],\n",
              "       [5.3],\n",
              "       [5.4],\n",
              "       [5.5],\n",
              "       [5.6],\n",
              "       [5.7],\n",
              "       [5.8],\n",
              "       [5.9],\n",
              "       [6. ],\n",
              "       [6.1],\n",
              "       [6.2],\n",
              "       [6.3],\n",
              "       [6.4],\n",
              "       [6.5],\n",
              "       [6.6],\n",
              "       [6.7],\n",
              "       [6.8],\n",
              "       [6.9],\n",
              "       [7. ],\n",
              "       [7.1],\n",
              "       [7.2],\n",
              "       [7.3],\n",
              "       [7.4],\n",
              "       [7.5],\n",
              "       [7.6],\n",
              "       [7.7],\n",
              "       [7.8],\n",
              "       [7.9],\n",
              "       [8. ],\n",
              "       [8.1],\n",
              "       [8.2],\n",
              "       [8.3],\n",
              "       [8.4],\n",
              "       [8.5],\n",
              "       [8.6],\n",
              "       [8.7],\n",
              "       [8.8],\n",
              "       [8.9],\n",
              "       [9. ],\n",
              "       [9.1],\n",
              "       [9.2],\n",
              "       [9.3],\n",
              "       [9.4],\n",
              "       [9.5],\n",
              "       [9.6],\n",
              "       [9.7],\n",
              "       [9.8],\n",
              "       [9.9]])"
            ]
          },
          "metadata": {
            "tags": []
          },
          "execution_count": 18
        }
      ]
    }
  ]
}