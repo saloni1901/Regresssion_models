{
  "nbformat": 4,
  "nbformat_minor": 0,
  "metadata": {
    "colab": {
      "name": "Regression_1",
      "provenance": [],
      "authorship_tag": "ABX9TyN6fdvFcOgOycaSeanOkllB",
      "include_colab_link": true
    },
    "kernelspec": {
      "name": "python3",
      "display_name": "Python 3"
    },
    "language_info": {
      "name": "python"
    }
  },
  "cells": [
    {
      "cell_type": "markdown",
      "metadata": {
        "id": "view-in-github",
        "colab_type": "text"
      },
      "source": [
        "<a href=\"https://colab.research.google.com/github/saloni1901/machine_learning_basics/blob/main/Regression_1.ipynb\" target=\"_parent\"><img src=\"https://colab.research.google.com/assets/colab-badge.svg\" alt=\"Open In Colab\"/></a>"
      ]
    },
    {
      "cell_type": "code",
      "metadata": {
        "id": "NPhvij3KHQNs"
      },
      "source": [
        "import pandas as pd \n",
        "import numpy as np\n",
        "import seaborn as sns\n",
        "sns.set_theme(color_codes=True)"
      ],
      "execution_count": 11,
      "outputs": []
    },
    {
      "cell_type": "code",
      "metadata": {
        "colab": {
          "base_uri": "https://localhost:8080/",
          "height": 297
        },
        "id": "qKl-o4QpJdpQ",
        "outputId": "3357f97a-e930-4a14-a324-2a029a517c44"
      },
      "source": [
        "data=pd.read_csv('Salary_Data.csv')\n",
        "data.head(8)"
      ],
      "execution_count": 4,
      "outputs": [
        {
          "output_type": "execute_result",
          "data": {
            "text/html": [
              "<div>\n",
              "<style scoped>\n",
              "    .dataframe tbody tr th:only-of-type {\n",
              "        vertical-align: middle;\n",
              "    }\n",
              "\n",
              "    .dataframe tbody tr th {\n",
              "        vertical-align: top;\n",
              "    }\n",
              "\n",
              "    .dataframe thead th {\n",
              "        text-align: right;\n",
              "    }\n",
              "</style>\n",
              "<table border=\"1\" class=\"dataframe\">\n",
              "  <thead>\n",
              "    <tr style=\"text-align: right;\">\n",
              "      <th></th>\n",
              "      <th>YearsExperience</th>\n",
              "      <th>Salary</th>\n",
              "    </tr>\n",
              "  </thead>\n",
              "  <tbody>\n",
              "    <tr>\n",
              "      <th>0</th>\n",
              "      <td>1.1</td>\n",
              "      <td>39343.0</td>\n",
              "    </tr>\n",
              "    <tr>\n",
              "      <th>1</th>\n",
              "      <td>1.3</td>\n",
              "      <td>46205.0</td>\n",
              "    </tr>\n",
              "    <tr>\n",
              "      <th>2</th>\n",
              "      <td>1.5</td>\n",
              "      <td>37731.0</td>\n",
              "    </tr>\n",
              "    <tr>\n",
              "      <th>3</th>\n",
              "      <td>2.0</td>\n",
              "      <td>43525.0</td>\n",
              "    </tr>\n",
              "    <tr>\n",
              "      <th>4</th>\n",
              "      <td>2.2</td>\n",
              "      <td>39891.0</td>\n",
              "    </tr>\n",
              "    <tr>\n",
              "      <th>5</th>\n",
              "      <td>2.9</td>\n",
              "      <td>56642.0</td>\n",
              "    </tr>\n",
              "    <tr>\n",
              "      <th>6</th>\n",
              "      <td>3.0</td>\n",
              "      <td>60150.0</td>\n",
              "    </tr>\n",
              "    <tr>\n",
              "      <th>7</th>\n",
              "      <td>3.2</td>\n",
              "      <td>54445.0</td>\n",
              "    </tr>\n",
              "  </tbody>\n",
              "</table>\n",
              "</div>"
            ],
            "text/plain": [
              "   YearsExperience   Salary\n",
              "0              1.1  39343.0\n",
              "1              1.3  46205.0\n",
              "2              1.5  37731.0\n",
              "3              2.0  43525.0\n",
              "4              2.2  39891.0\n",
              "5              2.9  56642.0\n",
              "6              3.0  60150.0\n",
              "7              3.2  54445.0"
            ]
          },
          "metadata": {
            "tags": []
          },
          "execution_count": 4
        }
      ]
    },
    {
      "cell_type": "code",
      "metadata": {
        "colab": {
          "base_uri": "https://localhost:8080/"
        },
        "id": "K7zwfUgaNJZF",
        "outputId": "a47d4d7e-5676-4190-c470-5b833d7e8374"
      },
      "source": [
        "data.shape"
      ],
      "execution_count": 28,
      "outputs": [
        {
          "output_type": "execute_result",
          "data": {
            "text/plain": [
              "(30, 2)"
            ]
          },
          "metadata": {
            "tags": []
          },
          "execution_count": 28
        }
      ]
    },
    {
      "cell_type": "code",
      "metadata": {
        "colab": {
          "base_uri": "https://localhost:8080/"
        },
        "id": "XxVEfYl5NMYK",
        "outputId": "bfac2863-4277-4cf5-a7c1-cc8616db5110"
      },
      "source": [
        "data.isnull().sum()"
      ],
      "execution_count": 29,
      "outputs": [
        {
          "output_type": "execute_result",
          "data": {
            "text/plain": [
              "YearsExperience    0\n",
              "Salary             0\n",
              "dtype: int64"
            ]
          },
          "metadata": {
            "tags": []
          },
          "execution_count": 29
        }
      ]
    },
    {
      "cell_type": "code",
      "metadata": {
        "colab": {
          "base_uri": "https://localhost:8080/"
        },
        "id": "d-xTm1_qNSBI",
        "outputId": "b8c0dd87-1c89-44fd-da8d-0c32a0e78190"
      },
      "source": [
        "data.info()"
      ],
      "execution_count": 30,
      "outputs": [
        {
          "output_type": "stream",
          "text": [
            "<class 'pandas.core.frame.DataFrame'>\n",
            "RangeIndex: 30 entries, 0 to 29\n",
            "Data columns (total 2 columns):\n",
            " #   Column           Non-Null Count  Dtype  \n",
            "---  ------           --------------  -----  \n",
            " 0   YearsExperience  30 non-null     float64\n",
            " 1   Salary           30 non-null     float64\n",
            "dtypes: float64(2)\n",
            "memory usage: 608.0 bytes\n"
          ],
          "name": "stdout"
        }
      ]
    },
    {
      "cell_type": "code",
      "metadata": {
        "colab": {
          "base_uri": "https://localhost:8080/",
          "height": 297
        },
        "id": "LjZphPL-NW4s",
        "outputId": "285e2a44-0059-4892-a60a-bf85d71b40d2"
      },
      "source": [
        "data.describe()"
      ],
      "execution_count": 31,
      "outputs": [
        {
          "output_type": "execute_result",
          "data": {
            "text/html": [
              "<div>\n",
              "<style scoped>\n",
              "    .dataframe tbody tr th:only-of-type {\n",
              "        vertical-align: middle;\n",
              "    }\n",
              "\n",
              "    .dataframe tbody tr th {\n",
              "        vertical-align: top;\n",
              "    }\n",
              "\n",
              "    .dataframe thead th {\n",
              "        text-align: right;\n",
              "    }\n",
              "</style>\n",
              "<table border=\"1\" class=\"dataframe\">\n",
              "  <thead>\n",
              "    <tr style=\"text-align: right;\">\n",
              "      <th></th>\n",
              "      <th>YearsExperience</th>\n",
              "      <th>Salary</th>\n",
              "    </tr>\n",
              "  </thead>\n",
              "  <tbody>\n",
              "    <tr>\n",
              "      <th>count</th>\n",
              "      <td>30.000000</td>\n",
              "      <td>30.000000</td>\n",
              "    </tr>\n",
              "    <tr>\n",
              "      <th>mean</th>\n",
              "      <td>5.313333</td>\n",
              "      <td>76003.000000</td>\n",
              "    </tr>\n",
              "    <tr>\n",
              "      <th>std</th>\n",
              "      <td>2.837888</td>\n",
              "      <td>27414.429785</td>\n",
              "    </tr>\n",
              "    <tr>\n",
              "      <th>min</th>\n",
              "      <td>1.100000</td>\n",
              "      <td>37731.000000</td>\n",
              "    </tr>\n",
              "    <tr>\n",
              "      <th>25%</th>\n",
              "      <td>3.200000</td>\n",
              "      <td>56720.750000</td>\n",
              "    </tr>\n",
              "    <tr>\n",
              "      <th>50%</th>\n",
              "      <td>4.700000</td>\n",
              "      <td>65237.000000</td>\n",
              "    </tr>\n",
              "    <tr>\n",
              "      <th>75%</th>\n",
              "      <td>7.700000</td>\n",
              "      <td>100544.750000</td>\n",
              "    </tr>\n",
              "    <tr>\n",
              "      <th>max</th>\n",
              "      <td>10.500000</td>\n",
              "      <td>122391.000000</td>\n",
              "    </tr>\n",
              "  </tbody>\n",
              "</table>\n",
              "</div>"
            ],
            "text/plain": [
              "       YearsExperience         Salary\n",
              "count        30.000000      30.000000\n",
              "mean          5.313333   76003.000000\n",
              "std           2.837888   27414.429785\n",
              "min           1.100000   37731.000000\n",
              "25%           3.200000   56720.750000\n",
              "50%           4.700000   65237.000000\n",
              "75%           7.700000  100544.750000\n",
              "max          10.500000  122391.000000"
            ]
          },
          "metadata": {
            "tags": []
          },
          "execution_count": 31
        }
      ]
    },
    {
      "cell_type": "code",
      "metadata": {
        "colab": {
          "base_uri": "https://localhost:8080/",
          "height": 302
        },
        "id": "oKQlij5eJ6dj",
        "outputId": "482dd197-3da6-4964-a129-556da18fdf85"
      },
      "source": [
        "sns.regplot(x=data['YearsExperience'],y=data['Salary'],scatter=True,color='g',marker='*')"
      ],
      "execution_count": 14,
      "outputs": [
        {
          "output_type": "execute_result",
          "data": {
            "text/plain": [
              "<matplotlib.axes._subplots.AxesSubplot at 0x7f0421fe7410>"
            ]
          },
          "metadata": {
            "tags": []
          },
          "execution_count": 14
        },
        {
          "output_type": "display_data",
          "data": {
            "image/png": "[encoded data removed]",
            "text/plain": [
              "<Figure size 432x288 with 1 Axes>"
            ]
          },
          "metadata": {
            "tags": []
          }
        }
      ]
    },
    {
      "cell_type": "code",
      "metadata": {
        "colab": {
          "base_uri": "https://localhost:8080/",
          "height": 356
        },
        "id": "k3t8AR5nKSk9",
        "outputId": "1e5ca062-8428-4cdc-b792-da9d4dbb981c"
      },
      "source": [
        "sns.distplot(data['YearsExperience'],bins=10,color='r')"
      ],
      "execution_count": 25,
      "outputs": [
        {
          "output_type": "stream",
          "text": [
            "/usr/local/lib/python3.7/dist-packages/seaborn/distributions.py:2557: FutureWarning: `distplot` is a deprecated function and will be removed in a future version. Please adapt your code to use either `displot` (a figure-level function with similar flexibility) or `histplot` (an axes-level function for histograms).\n",
            "  warnings.warn(msg, FutureWarning)\n"
          ],
          "name": "stderr"
        },
        {
          "output_type": "execute_result",
          "data": {
            "text/plain": [
              "<matplotlib.axes._subplots.AxesSubplot at 0x7f0415cb0750>"
            ]
          },
          "metadata": {
            "tags": []
          },
          "execution_count": 25
        },
        {
          "output_type": "display_data",
          "data": {
            "image/png": "[encoded data removed]",
            "text/plain": [
              "<Figure size 432x288 with 1 Axes>"
            ]
          },
          "metadata": {
            "tags": []
          }
        }
      ]
    },
    {
      "cell_type": "code",
      "metadata": {
        "colab": {
          "base_uri": "https://localhost:8080/",
          "height": 367
        },
        "id": "7pnL_EpHM6ac",
        "outputId": "f3b4f3d9-878a-4bed-af6e-d99ee915ce60"
      },
      "source": [
        "sns.distplot(data['Salary'],bins=5,color='g')"
      ],
      "execution_count": 27,
      "outputs": [
        {
          "output_type": "stream",
          "text": [
            "/usr/local/lib/python3.7/dist-packages/seaborn/distributions.py:2557: FutureWarning: `distplot` is a deprecated function and will be removed in a future version. Please adapt your code to use either `displot` (a figure-level function with similar flexibility) or `histplot` (an axes-level function for histograms).\n",
            "  warnings.warn(msg, FutureWarning)\n"
          ],
          "name": "stderr"
        },
        {
          "output_type": "execute_result",
          "data": {
            "text/plain": [
              "<matplotlib.axes._subplots.AxesSubplot at 0x7f0415c04d50>"
            ]
          },
          "metadata": {
            "tags": []
          },
          "execution_count": 27
        },
        {
          "output_type": "display_data",
          "data": {
            "image/png": "[encoded data removed]",
            "text/plain": [
              "<Figure size 432x288 with 1 Axes>"
            ]
          },
          "metadata": {
            "tags": []
          }
        }
      ]
    },
    {
      "cell_type": "code",
      "metadata": {
        "id": "2b5Sd4LUNh0i"
      },
      "source": [
        "from sklearn.model_selection import train_test_split\n",
        "from sklearn.linear_model import LinearRegression\n",
        "from sklearn.svm import SVR\n",
        "from sklearn.tree import DecisionTreeRegressor\n",
        "from sklearn.ensemble import RandomForestRegressor\n",
        "from sklearn.linear_model import Ridge,Lasso\n"
      ],
      "execution_count": 33,
      "outputs": []
    },
    {
      "cell_type": "code",
      "metadata": {
        "id": "vkhK0R0TOgDu"
      },
      "source": [
        "X=data.iloc[:,:-1].values\n",
        "y=data.iloc[:,1].values"
      ],
      "execution_count": 42,
      "outputs": []
    },
    {
      "cell_type": "code",
      "metadata": {
        "colab": {
          "base_uri": "https://localhost:8080/"
        },
        "id": "Zw5-RIRMQPEP",
        "outputId": "7fbcc52e-8a12-48e3-e04b-ba6c4d0494b9"
      },
      "source": [
        "X"
      ],
      "execution_count": 43,
      "outputs": [
        {
          "output_type": "execute_result",
          "data": {
            "text/plain": [
              "array([[ 1.1],\n",
              "       [ 1.3],\n",
              "       [ 1.5],\n",
              "       [ 2. ],\n",
              "       [ 2.2],\n",
              "       [ 2.9],\n",
              "       [ 3. ],\n",
              "       [ 3.2],\n",
              "       [ 3.2],\n",
              "       [ 3.7],\n",
              "       [ 3.9],\n",
              "       [ 4. ],\n",
              "       [ 4. ],\n",
              "       [ 4.1],\n",
              "       [ 4.5],\n",
              "       [ 4.9],\n",
              "       [ 5.1],\n",
              "       [ 5.3],\n",
              "       [ 5.9],\n",
              "       [ 6. ],\n",
              "       [ 6.8],\n",
              "       [ 7.1],\n",
              "       [ 7.9],\n",
              "       [ 8.2],\n",
              "       [ 8.7],\n",
              "       [ 9. ],\n",
              "       [ 9.5],\n",
              "       [ 9.6],\n",
              "       [10.3],\n",
              "       [10.5]])"
            ]
          },
          "metadata": {
            "tags": []
          },
          "execution_count": 43
        }
      ]
    },
    {
      "cell_type": "code",
      "metadata": {
        "id": "Dgum4qc9OSX9"
      },
      "source": [
        "X_train,X_test,y_train,y_test=train_test_split(X,y,test_size=0.33)"
      ],
      "execution_count": 44,
      "outputs": []
    },
    {
      "cell_type": "code",
      "metadata": {
        "colab": {
          "base_uri": "https://localhost:8080/"
        },
        "id": "yoX9eDczOwB-",
        "outputId": "5e553b81-1dee-41be-f7f2-81c7278c20e2"
      },
      "source": [
        "print(X_train.shape,X_test.shape)"
      ],
      "execution_count": 45,
      "outputs": [
        {
          "output_type": "stream",
          "text": [
            "(20, 1) (10, 1)\n"
          ],
          "name": "stdout"
        }
      ]
    },
    {
      "cell_type": "code",
      "metadata": {
        "id": "wzv7hiOcO6ML"
      },
      "source": [
        "model1=LinearRegression()\n",
        "model1.fit(X_train,y_train)\n",
        "p1=model1.predict(X_test)\n",
        "t=pd.DataFrame(p1)"
      ],
      "execution_count": 46,
      "outputs": []
    },
    {
      "cell_type": "code",
      "metadata": {
        "colab": {
          "base_uri": "https://localhost:8080/"
        },
        "id": "k4ItT7YYQ5VA",
        "outputId": "e8c8b716-5361-4b30-d121-29f91cf6cb9a"
      },
      "source": [
        "model1.score(X_train,y_train)"
      ],
      "execution_count": 47,
      "outputs": [
        {
          "output_type": "execute_result",
          "data": {
            "text/plain": [
              "0.9606045103524844"
            ]
          },
          "metadata": {
            "tags": []
          },
          "execution_count": 47
        }
      ]
    },
    {
      "cell_type": "code",
      "metadata": {
        "colab": {
          "base_uri": "https://localhost:8080/"
        },
        "id": "bt3CWg3eRD7x",
        "outputId": "93744118-20e8-4be7-ad41-8a634804b020"
      },
      "source": [
        "model1.score(X_train,y_train)"
      ],
      "execution_count": 50,
      "outputs": [
        {
          "output_type": "execute_result",
          "data": {
            "text/plain": [
              "0.9606045103524844"
            ]
          },
          "metadata": {
            "tags": []
          },
          "execution_count": 50
        }
      ]
    },
    {
      "cell_type": "code",
      "metadata": {
        "colab": {
          "base_uri": "https://localhost:8080/"
        },
        "id": "04N2_wPdRLRN",
        "outputId": "cdb0f55c-7e1f-43d5-f01e-829d6484c886"
      },
      "source": [
        "print(\"model_cofficient: {}\".format(model1.coef_))\n",
        "print(\"model_itercept: {}\".format(model1.intercept_))"
      ],
      "execution_count": 53,
      "outputs": [
        {
          "output_type": "stream",
          "text": [
            "model_cofficient: [9301.96903645]\n",
            "model_itercept: 28715.33943379148\n"
          ],
          "name": "stdout"
        }
      ]
    },
    {
      "cell_type": "code",
      "metadata": {
        "colab": {
          "base_uri": "https://localhost:8080/"
        },
        "id": "nPt53VE3QrCz",
        "outputId": "71d78bc6-c570-40dc-fd25-4a7cbb336fa4"
      },
      "source": [
        "model2=Ridge(alpha=.5)\n",
        "model2.fit(X_train,y_train)\n",
        "p2=model2.predict(X_test)\n",
        "model2.score(X_train,y_train)"
      ],
      "execution_count": 60,
      "outputs": [
        {
          "output_type": "execute_result",
          "data": {
            "text/plain": [
              "0.9605930359344184"
            ]
          },
          "metadata": {
            "tags": []
          },
          "execution_count": 60
        }
      ]
    },
    {
      "cell_type": "code",
      "metadata": {
        "colab": {
          "base_uri": "https://localhost:8080/"
        },
        "id": "oGucFHYCWpaz",
        "outputId": "4781701a-26b7-4ae3-d5ba-56fd9594dd65"
      },
      "source": [
        "print(\"model_cofficient: {}\".format(model2.coef_))\n",
        "print(\"model_itercept: {}\".format(model2.intercept_))"
      ],
      "execution_count": 61,
      "outputs": [
        {
          "output_type": "stream",
          "text": [
            "model_cofficient: [9269.82000353]\n",
            "model_itercept: 28901.643079571026\n"
          ],
          "name": "stdout"
        }
      ]
    },
    {
      "cell_type": "code",
      "metadata": {
        "colab": {
          "base_uri": "https://localhost:8080/"
        },
        "id": "5uUU8C-nXI0n",
        "outputId": "676e0de4-a640-4cac-bdf6-c345299b45a0"
      },
      "source": [
        "model3=SVR(kernel='linear',degree=1,C=1.0,gamma='scale')\n",
        "model3.fit(X_train,y_train)\n",
        "p3=model3.predict(X_test)\n",
        "model3.score(X_train,y_train)\n",
        "#gamma{‘scale’, ‘auto’} or float, default=’scale’\n",
        "#Kernel coefficient for ‘rbf’, ‘poly’ and ‘sigmoid’.\n",
        "#if gamma='scale' (default) is passed then it uses 1 / (n_features * X.var()) as value of gamma,\n",
        "#if ‘auto’, uses 1 / n_features\n",
        "#C:float, default=1.0\n",
        "#Regularization parameter. The strength of the regularization is\n",
        "#inversely proportional to C. Must be strictly positive. The penalty is a squared l2 penalty."
      ],
      "execution_count": 72,
      "outputs": [
        {
          "output_type": "execute_result",
          "data": {
            "text/plain": [
              "0.008980551127219072"
            ]
          },
          "metadata": {
            "tags": []
          },
          "execution_count": 72
        }
      ]
    },
    {
      "cell_type": "code",
      "metadata": {
        "colab": {
          "base_uri": "https://localhost:8080/"
        },
        "id": "wU2wzpSpZT9t",
        "outputId": "ad038d47-1b86-49aa-8152-4d56aee84311"
      },
      "source": [
        "print(\"model_cofficient: {}\".format(model3.coef_))\n",
        "print(\"model_itercept: {}\".format(model3.intercept_))"
      ],
      "execution_count": 73,
      "outputs": [
        {
          "output_type": "stream",
          "text": [
            "model_cofficient: [[44.7]]\n",
            "model_itercept: [81975.17999721]\n"
          ],
          "name": "stdout"
        }
      ]
    },
    {
      "cell_type": "code",
      "metadata": {
        "colab": {
          "base_uri": "https://localhost:8080/"
        },
        "id": "wwVOjk66Z3le",
        "outputId": "47b1db5c-6ec3-4859-fe0a-b095ad1b369b"
      },
      "source": [
        "model4=Lasso(alpha=.5)\n",
        "model4.fit(X_train,y_train)\n",
        "p4=model4.predict(X_test)\n",
        "model4.score(X_train,y_train)"
      ],
      "execution_count": 75,
      "outputs": [
        {
          "output_type": "execute_result",
          "data": {
            "text/plain": [
              "0.9606045102990712"
            ]
          },
          "metadata": {
            "tags": []
          },
          "execution_count": 75
        }
      ]
    },
    {
      "cell_type": "code",
      "metadata": {
        "colab": {
          "base_uri": "https://localhost:8080/"
        },
        "id": "XpbgdQx7afeq",
        "outputId": "013a6d60-b2bd-4831-cdbf-f9b7ca513812"
      },
      "source": [
        "print(\"model_cofficient: {}\".format(model4.coef_))\n",
        "print(\"model_itercept: {}\".format(model4.intercept_))"
      ],
      "execution_count": 76,
      "outputs": [
        {
          "output_type": "stream",
          "text": [
            "model_cofficient: [9301.89967365]\n",
            "model_itercept: 28715.741391209653\n"
          ],
          "name": "stdout"
        }
      ]
    },
    {
      "cell_type": "code",
      "metadata": {
        "colab": {
          "base_uri": "https://localhost:8080/"
        },
        "id": "eCLHJoQSasiR",
        "outputId": "3841345f-63bd-4919-cb2b-edadb787120c"
      },
      "source": [
        "model5=DecisionTreeRegressor(max_depth=5)\n",
        "model5.fit(X_train,y_train)\n",
        "p5=model5.predict(X_test)\n",
        "model5.score(X_train,y_train)"
      ],
      "execution_count": 77,
      "outputs": [
        {
          "output_type": "execute_result",
          "data": {
            "text/plain": [
              "0.9955949122008565"
            ]
          },
          "metadata": {
            "tags": []
          },
          "execution_count": 77
        }
      ]
    },
    {
      "cell_type": "code",
      "metadata": {
        "colab": {
          "base_uri": "https://localhost:8080/"
        },
        "id": "Y9yEWM2DbZM-",
        "outputId": "3d6422c2-dc1b-478e-8c81-33a32176c3e6"
      },
      "source": [
        "model6=DecisionTreeRegressor()\n",
        "model6.fit(X_train,y_train)\n",
        "p6=model6.predict(X_test)\n",
        "model6.score(X_train,y_train)"
      ],
      "execution_count": 80,
      "outputs": [
        {
          "output_type": "execute_result",
          "data": {
            "text/plain": [
              "0.9961497276151398"
            ]
          },
          "metadata": {
            "tags": []
          },
          "execution_count": 80
        }
      ]
    },
    {
      "cell_type": "code",
      "metadata": {
        "colab": {
          "base_uri": "https://localhost:8080/",
          "height": 359
        },
        "id": "eyR30Y0vbn88",
        "outputId": "58e700c8-38c9-44df-c365-23465739f460"
      },
      "source": [
        "t=pd.DataFrame({'acctual':y_test,\"model1_lr\":p1,\"model2_rig\":p2,\"model3_svr\":p3,\"model4_laso\":p4,\"model5_des\":p5,\"model6_ran\":p6})\n",
        "t"
      ],
      "execution_count": 82,
      "outputs": [
        {
          "output_type": "execute_result",
          "data": {
            "text/html": [
              "<div>\n",
              "<style scoped>\n",
              "    .dataframe tbody tr th:only-of-type {\n",
              "        vertical-align: middle;\n",
              "    }\n",
              "\n",
              "    .dataframe tbody tr th {\n",
              "        vertical-align: top;\n",
              "    }\n",
              "\n",
              "    .dataframe thead th {\n",
              "        text-align: right;\n",
              "    }\n",
              "</style>\n",
              "<table border=\"1\" class=\"dataframe\">\n",
              "  <thead>\n",
              "    <tr style=\"text-align: right;\">\n",
              "      <th></th>\n",
              "      <th>acctual</th>\n",
              "      <th>model1_lr</th>\n",
              "      <th>model2_rig</th>\n",
              "      <th>model3_svr</th>\n",
              "      <th>model4_laso</th>\n",
              "      <th>model5_des</th>\n",
              "      <th>model6_ran</th>\n",
              "    </tr>\n",
              "  </thead>\n",
              "  <tbody>\n",
              "    <tr>\n",
              "      <th>0</th>\n",
              "      <td>39343.0</td>\n",
              "      <td>38947.505374</td>\n",
              "      <td>39098.445083</td>\n",
              "      <td>82024.349997</td>\n",
              "      <td>38947.831032</td>\n",
              "      <td>46205.0</td>\n",
              "      <td>46205.0</td>\n",
              "    </tr>\n",
              "    <tr>\n",
              "      <th>1</th>\n",
              "      <td>39891.0</td>\n",
              "      <td>49179.671314</td>\n",
              "      <td>49295.247087</td>\n",
              "      <td>82073.519997</td>\n",
              "      <td>49179.920673</td>\n",
              "      <td>43525.0</td>\n",
              "      <td>43525.0</td>\n",
              "    </tr>\n",
              "    <tr>\n",
              "      <th>2</th>\n",
              "      <td>55794.0</td>\n",
              "      <td>65923.215580</td>\n",
              "      <td>65980.923094</td>\n",
              "      <td>82153.979997</td>\n",
              "      <td>65923.340086</td>\n",
              "      <td>63218.0</td>\n",
              "      <td>63218.0</td>\n",
              "    </tr>\n",
              "    <tr>\n",
              "      <th>3</th>\n",
              "      <td>56642.0</td>\n",
              "      <td>55691.049639</td>\n",
              "      <td>55784.121090</td>\n",
              "      <td>82104.809997</td>\n",
              "      <td>55691.250445</td>\n",
              "      <td>60150.0</td>\n",
              "      <td>60150.0</td>\n",
              "    </tr>\n",
              "    <tr>\n",
              "      <th>4</th>\n",
              "      <td>112635.0</td>\n",
              "      <td>118014.242184</td>\n",
              "      <td>117891.915113</td>\n",
              "      <td>82404.299997</td>\n",
              "      <td>118013.978258</td>\n",
              "      <td>116969.0</td>\n",
              "      <td>116969.0</td>\n",
              "    </tr>\n",
              "    <tr>\n",
              "      <th>5</th>\n",
              "      <td>56957.0</td>\n",
              "      <td>65923.215580</td>\n",
              "      <td>65980.923094</td>\n",
              "      <td>82153.979997</td>\n",
              "      <td>65923.340086</td>\n",
              "      <td>63218.0</td>\n",
              "      <td>63218.0</td>\n",
              "    </tr>\n",
              "    <tr>\n",
              "      <th>6</th>\n",
              "      <td>105582.0</td>\n",
              "      <td>112433.060762</td>\n",
              "      <td>112330.023111</td>\n",
              "      <td>82377.479997</td>\n",
              "      <td>112432.838454</td>\n",
              "      <td>109431.0</td>\n",
              "      <td>109431.0</td>\n",
              "    </tr>\n",
              "    <tr>\n",
              "      <th>7</th>\n",
              "      <td>37731.0</td>\n",
              "      <td>42668.292988</td>\n",
              "      <td>42806.373085</td>\n",
              "      <td>82042.229997</td>\n",
              "      <td>42668.590902</td>\n",
              "      <td>46205.0</td>\n",
              "      <td>46205.0</td>\n",
              "    </tr>\n",
              "    <tr>\n",
              "      <th>8</th>\n",
              "      <td>66029.0</td>\n",
              "      <td>76155.381520</td>\n",
              "      <td>76177.725098</td>\n",
              "      <td>82203.149997</td>\n",
              "      <td>76155.429727</td>\n",
              "      <td>67938.0</td>\n",
              "      <td>67938.0</td>\n",
              "    </tr>\n",
              "    <tr>\n",
              "      <th>9</th>\n",
              "      <td>57081.0</td>\n",
              "      <td>66853.412483</td>\n",
              "      <td>66907.905094</td>\n",
              "      <td>82158.449997</td>\n",
              "      <td>66853.530053</td>\n",
              "      <td>63218.0</td>\n",
              "      <td>63218.0</td>\n",
              "    </tr>\n",
              "  </tbody>\n",
              "</table>\n",
              "</div>"
            ],
            "text/plain": [
              "    acctual      model1_lr  ...  model5_des  model6_ran\n",
              "0   39343.0   38947.505374  ...     46205.0     46205.0\n",
              "1   39891.0   49179.671314  ...     43525.0     43525.0\n",
              "2   55794.0   65923.215580  ...     63218.0     63218.0\n",
              "3   56642.0   55691.049639  ...     60150.0     60150.0\n",
              "4  112635.0  118014.242184  ...    116969.0    116969.0\n",
              "5   56957.0   65923.215580  ...     63218.0     63218.0\n",
              "6  105582.0  112433.060762  ...    109431.0    109431.0\n",
              "7   37731.0   42668.292988  ...     46205.0     46205.0\n",
              "8   66029.0   76155.381520  ...     67938.0     67938.0\n",
              "9   57081.0   66853.412483  ...     63218.0     63218.0\n",
              "\n",
              "[10 rows x 7 columns]"
            ]
          },
          "metadata": {
            "tags": []
          },
          "execution_count": 82
        }
      ]
    }
  ]
}